{
  "nbformat": 4,
  "nbformat_minor": 0,
  "metadata": {
    "colab": {
      "name": "2. Qflip_Random Noise.ipynb",
      "provenance": [],
      "collapsed_sections": [],
      "include_colab_link": true
    },
    "kernelspec": {
      "name": "python3",
      "display_name": "Python 3"
    },
    "language_info": {
      "name": "python"
    }
  },
  "cells": [
    {
      "cell_type": "markdown",
      "metadata": {
        "id": "view-in-github",
        "colab_type": "text"
      },
      "source": [
        "<a href=\"https://colab.research.google.com/github/XueYang0130/1CSD1_Thesis/blob/main/2_Qflip_Random_Noise.ipynb\" target=\"_parent\"><img src=\"https://colab.research.google.com/assets/colab-badge.svg\" alt=\"Open In Colab\"/></a>"
      ]
    },
    {
      "cell_type": "markdown",
      "metadata": {
        "id": "wZh2QvuAqrUM"
      },
      "source": [
        "###**Part 1 Model**"
      ]
    },
    {
      "cell_type": "markdown",
      "metadata": {
        "id": "gLMFZk7nJkH7"
      },
      "source": [
        "**Background:**\n",
        "\n",
        "We assume p0 has a periodic strategy (default: start 0, period 50) with small degree of random noise, where \"period\" represents the time interval between two adjacent moves. For example, \"prob\" is the probability to add a random noise to the move period of p0, which is in the range of [0,1]. \"scale\" is the degree of the noise to he period e.g. in one episode the period changes from 50 to 55 after adding a noise of 5. Additionally, p1 has an adaptive strategy and p1 can observe the information of oppLM (last \"known\" move of opponent). "
      ]
    },
    {
      "cell_type": "markdown",
      "metadata": {
        "id": "RL7n3AlTYDAb"
      },
      "source": [
        "**Reward function - 'constant_minus_cost_norm'**:\n",
        "*   If there is no move this turn, reward is 0\n",
        "*   Otherwise, If the most recent game move was by the agent, reward is -cost； else If the most recent game move was by the opponent, reward is (opponent move period - own move cost)/c, where c is a constant (c=5).\n",
        "\n",
        "**Other Assumptions:**\n",
        "\n",
        "(1) If p0 and p1 move together, p0 controls the resource, p0 still need to pay the cost;\n",
        "\n",
        "(2) Defender's move cost is lower than attacker's move cost;\n",
        "\n",
        "(3) At tick = 0, we assume both players move;\n",
        "\n",
        "(4) Starting State:\n",
        "  Player 0 has control at tick = 0;\n",
        "\n",
        "(5) Episode Termination:\n",
        "  tick reaches duration of game (default duration: 10000);\n",
        "\n",
        "\n"
      ]
    },
    {
      "cell_type": "code",
      "metadata": {
        "id": "reE4KMCzhyd1"
      },
      "source": [
        "#import libraries\n",
        "import numpy as np\n",
        "import random \n",
        "import matplotlib.pyplot as plt"
      ],
      "execution_count": 2,
      "outputs": []
    },
    {
      "cell_type": "code",
      "metadata": {
        "id": "6ccD6bcFhzMC"
      },
      "source": [
        "#define an environment class\n",
        "#p0: defender, p1: attacker\n",
        "\n",
        "class Env(object):\n",
        "  def __init__(self):\n",
        "    #initialization\n",
        "    self.actions=[0,1]  #two actions: 0 doesn't move; 1 move \n",
        "    self.tick=0   #time tick\n",
        "    self.cost=[1,5] #costs of p0 and p1 respectively\n",
        "    self.period=50 #initialize the period as 50 indicating that the defender moves exactly at 50 time units after the previous move\n",
        "    self.acc_period=50 #sum of all periods which have happened to p0\n",
        "    self.period_list=[] #store all periods in this list\n",
        "    self.c=5 #a constant for use in reward function below\n",
        "    self.reward_constant_norm=(self.period-self.cost[1])/self.c # Reward function - 'constant_minus_cost_norm' described above\n",
        "    self.init_state= -1 #initial state observed by the attacker/agent\n",
        "    self.state = self.init_state # 'state' is the time tick since the opponent's last \"known\" move at time t (maybe not true last move time)\n",
        "    self.p0_moves = [0] #a list of move ticks for p0\n",
        "    self.p1_moves = [0] #a list of move ticks for p1\n",
        "    self.duration=50000 #the maximum time detps\n",
        "    self.done=False #indicates whether the game is over\n",
        "    self.controller=0 #indicates who control the resource\n",
        "    self.total_gain=[0,0] #the 1st element:accumulated gain of controling time of the resource for p0; the 2nd element: the accumalated gain for p1.\n",
        "    self.total_cost=[1,5] #the 1st element:the accumulated cost for p0; the 2nd element: the accumulated cost for p1.\n",
        "    self.p0_avr_benefit=[] #a list of the average benefits of p0 at each time tick, where avr_benefit=(total_gain-total_cost)/time_steps\n",
        "    self.p1_avr_benefit=[]  #a list of the average benefits of p1 at each time tick\n",
        "    self.flipping_count = 0 #how many times of \"flipping\" (a kind of action) that happens to p1\n",
        "    self.hold_time_list = [] #a list of durations of p1 controling the resource in each period\n",
        "\n",
        "  def step(self,action,tick,scale,prob):\n",
        "    reward = 0 \n",
        "    if tick==self.acc_period: #if the tick is the time that p0 should move\n",
        "        self.generate_period(scale,prob) #generate a new period with random noise. Meanwhile assign values to parameter \"scale\" and \"prob\".\n",
        "        self.acc_period+=self.period #update the new accumulated period\n",
        "        self.period_list.append(self.period) #add period to the corresponding list\n",
        "        \n",
        "        #p0 and p1 move together, p0/defender will control the resource\n",
        "        if action == 1:\n",
        "          reward = -self.cost[1] #generate reward\n",
        "          self.state += 1 #next state will be incresed by 1 given the current state\n",
        "          self.total_cost[1]+=self.cost[1] #add cost to p0\n",
        "        else:# p0 moves, p1 doesn't move   \n",
        "          self.state += 1 #next state \n",
        "        self.p0_moves.append(tick) #update the list p0's move times\n",
        "        self.controller=0 #update the controlloer\n",
        "        self.total_cost[0]+=self.cost[0] #add cost to p0\n",
        "\n",
        "    else: #if the tick is not the time that p0 should move\n",
        "        if action == 1:# p1 moves, p0 doesn't move\n",
        "            #flipping - p1 moves while p0 is controlling the resource\n",
        "            if self.p1_moves[-1] < self.p0_moves[-1]: \n",
        "              reward = self.reward_constant_norm #generate reward\n",
        "              self.state = tick - self.p0_moves[-1] +1 #next state\n",
        "              self.flipping_count+=1  #update flipping count\n",
        "              self.hold_time_list.append(self.p0_moves[-1]+self.period-tick) #update the hold-resource-time list for p1\n",
        "            # consecutive - p1 moves while it has already controlled the resource\n",
        "            elif self.p1_moves[-1] >= self.p0_moves[-1]:\n",
        "              reward = -self.cost[1] #generate reward\n",
        "              self.state += 1 #next state\n",
        "            self.p1_moves.append(tick) #update the list of move ticks for p1\n",
        "            self.total_cost[1]+=self.cost[1] #update total cost for p1\n",
        "            self.controller=1 #update the controller\n",
        "        else:# both hold \n",
        "            self.state += 1 #next state\n",
        "\n",
        "    #check if the game is over\n",
        "    if tick==self.duration: \n",
        "      self.done=True\n",
        "    \n",
        "    self.total_gain[self.controller]+=1 #update the list of the total_gain to add one time step to the controller\n",
        "    self.p0_avr_benefit.append((self.total_gain[0]-self.total_cost[0])/(tick+1)) #add the new average benefit to the corresponding list for p0\n",
        "    self.p1_avr_benefit.append((self.total_gain[1]-self.total_cost[1])/(tick+1)) #add the new average benefit to the corresponding list for p1\n",
        "\n",
        "    return self.state, reward, self.done #return next state/observation, reward for the agent, and the state of 'done'\n",
        "  \n",
        "  #define a function to add a random noise. \"scale\" controlls what's the defree of the noise compared with th edefault period 50\n",
        "  #\"prob\" indicates the probability of adding a random noise to a period.    \n",
        "  def generate_period(self, scale, prob): \n",
        "      if np.random.rand()<prob: \n",
        "      #add random noise to the period\n",
        "        self.period=random.choice(list(range(50-scale,50+scale+1)))\n",
        "      else: #set the period as default 50\n",
        "        self.period=50\n",
        "\n",
        "  def reset(self): #reset the environment\n",
        "    self.actions=[0,1]  \n",
        "    self.tick=0   \n",
        "    self.cost=[1,5] \n",
        "    self.period=50 \n",
        "    self.acc_period=50 \n",
        "    self.period_list=[] \n",
        "    self.c=5 \n",
        "    self.reward_constant_norm=(self.period-self.cost[1])/self.c \n",
        "    self.init_state= -1 \n",
        "    self.state = self.init_state \n",
        "    self.p0_moves = [0] \n",
        "    self.p1_moves = [0] \n",
        "    self.duration=50000 \n",
        "    self.done=False \n",
        "    self.controller=0 \n",
        "    self.total_gain=[0,0] \n",
        "    self.total_cost=[1,5] \n",
        "    self.p0_avr_benefit=[] \n",
        "    self.p1_avr_benefit=[]  \n",
        "    self.flipping_count = 0 \n",
        "    self.hold_time_list = []\n",
        "\n"
      ],
      "execution_count": 3,
      "outputs": []
    },
    {
      "cell_type": "code",
      "metadata": {
        "id": "B2Fbsr_8wVC5"
      },
      "source": [
        "#define an agent class for the p1/attacker\n",
        "class Agent(object):\n",
        "  def __init__(self,env):\n",
        "    self.env=env\n",
        "    #initialisation\n",
        "    self.alpha = 0.3 #learning rate\n",
        "    self.gamma=0.8 #discount value\n",
        "    self.actions=[0,1] #actions can be chosen\n",
        "    self.Q_table=np.zeros((100000,2)) #create a Q table and initialise all values to be zero\n",
        "    self.cur_state=self.env.state #get the current state from the environment\n",
        "    self.next_state=0 #the next state is initialised to be 0\n",
        "\n",
        "  def do_step(self,epsilon,tick,scale,prob):\n",
        "    action=self.epsilon_greedy(self.cur_state, epsilon) #select an action\n",
        "    self.next_state, reward, done=self.env.step(action,tick,scale, prob)  #take the action, and get the next state, reward and the state of \"done\" from the environment\n",
        "    self.update_Q(reward, self.cur_state, self.next_state,action) #update Q table\n",
        "    self.cur_state=self.next_state #update the new current state\n",
        "    return done #return the state of \"done\"\n",
        " \n",
        " #define epsilon greedy exploration method (epsilon decays in each episode) \n",
        "  def epsilon_greedy(self, state, epsilon): \n",
        "    if np.random.rand()<epsilon:\n",
        "      return random.choice(self.actions) #select an action at random\n",
        "    else:\n",
        "      return np.argmax(self.Q_table[state]) #otherwise, select the action with the maximum Q value at that state given the Q table\n",
        "\n",
        "  #update Q table given the Q-learning algorithm\n",
        "  def update_Q(self, reward, cur_state, next_state, action): \n",
        "    self.Q_table[cur_state, action]=self.Q_table[cur_state, action]+self.alpha*(reward+self.gamma*np.max(self.Q_table[next_state])-self.Q_table[cur_state,action])\n",
        "\n"
      ],
      "execution_count": 4,
      "outputs": []
    },
    {
      "cell_type": "code",
      "metadata": {
        "id": "eEWF4kDxzGBt"
      },
      "source": [
        "env = Env() #create an environment object\n",
        "attacker = Agent(env) #create an agent object\n",
        "scales=list(range(1, 21)) #the range of scale of noise\n",
        "prob=0.2 #probability of adding a random noise\n",
        "final_avr_benefit_p1=[] #the final average benefit for p1 with different scale values\n",
        "final_avr_benefit_p0=[] #the final average benefit for p1 with different scale values\n",
        "\n",
        "for scale in scales: #loop for scale in {1, 2, 3, ..., 20}\n",
        "  avr_benefit_p1=[]\n",
        "  avr_benefit_p0=[]\n",
        "  for i in range(10): #perform 10 times\n",
        "    env.reset() #reset environment\n",
        "    epsilon = 1 #define epsilon with an initial value of 1\n",
        "    for tick in range(env.duration): \n",
        "      epsilon=max(epsilon-1/1000, 0.001) # update epsilon with decay\n",
        "      attacker.do_step(epsilon,tick,scale,prob) #let the agent take step\n",
        "    avr_benefit_p1.append(env.p1_avr_benefit[-1])\n",
        "    avr_benefit_p0.append(env.p0_avr_benefit[-1])\n",
        "    if i==9: \n",
        "      final_avr_benefit_p1.append(np.mean(avr_benefit_p1))\n",
        "      final_avr_benefit_p0.append(np.mean(avr_benefit_p0))\n"
      ],
      "execution_count": null,
      "outputs": []
    },
    {
      "cell_type": "markdown",
      "metadata": {
        "id": "5inor0VXTN4y"
      },
      "source": [
        "###**Part 2 QFlip With Zero Noise**\n",
        "###When there is no noise in the moving period of p0, the setting should be changed, for example, there are fewer states in the Q table, the duration can be set as a samller number, and the probability of adding a noise to the moving period for p0 should be zero. Here is an example:\n",
        "\n",
        "* In the generate_period(margin,prob) method, the value of \"prob\"\n",
        "is 0.\n",
        "* duration=10000\n",
        "* Q_table=np.zeros((100,2))\n",
        "\n"
      ]
    },
    {
      "cell_type": "markdown",
      "metadata": {
        "id": "G12VfnNTaA-1"
      },
      "source": [
        "### The following move times show that QFlip with states based on the time since opponent’s last move converges to the optimal adaptive strategy: playing immediately after the opponent with the same period. In this case, the defender moves at 0, 50, 100, 150, etc. The optimal strategy for the attacker is to move right after the attcker, say, at 1, 51, 101, 151, etc."
      ]
    },
    {
      "cell_type": "code",
      "metadata": {
        "colab": {
          "base_uri": "https://localhost:8080/"
        },
        "id": "rEeXseAO3GOV",
        "outputId": "98e4edee-7465-4909-9d39-816b834fe1da"
      },
      "source": [
        "print(\"p0:\",env.p0_moves[-100:])\n",
        "print(\"p1:\",env.p1_moves[-100:])"
      ],
      "execution_count": 14,
      "outputs": [
        {
          "output_type": "stream",
          "text": [
            "p0: [45000, 45050, 45100, 45150, 45200, 45250, 45300, 45350, 45400, 45450, 45500, 45550, 45600, 45650, 45700, 45750, 45800, 45850, 45900, 45950, 46000, 46050, 46100, 46150, 46200, 46250, 46300, 46350, 46400, 46450, 46500, 46550, 46600, 46650, 46700, 46750, 46800, 46850, 46900, 46950, 47000, 47050, 47100, 47150, 47200, 47250, 47300, 47350, 47400, 47450, 47500, 47550, 47600, 47650, 47700, 47750, 47800, 47850, 47900, 47950, 48000, 48050, 48100, 48150, 48200, 48250, 48300, 48350, 48400, 48450, 48500, 48550, 48600, 48650, 48700, 48750, 48800, 48850, 48900, 48950, 49000, 49050, 49100, 49150, 49200, 49250, 49300, 49350, 49400, 49450, 49500, 49550, 49600, 49650, 49700, 49750, 49800, 49850, 49900, 49950]\n",
            "p1: [45051, 45101, 45151, 45184, 45201, 45251, 45301, 45351, 45401, 45451, 45501, 45551, 45601, 45651, 45701, 45751, 45801, 45851, 45901, 45951, 46001, 46051, 46101, 46151, 46201, 46251, 46301, 46351, 46401, 46451, 46501, 46551, 46601, 46651, 46701, 46751, 46801, 46851, 46901, 46951, 47001, 47051, 47101, 47151, 47201, 47251, 47301, 47351, 47401, 47451, 47501, 47551, 47601, 47651, 47701, 47751, 47801, 47851, 47901, 47951, 48001, 48051, 48101, 48151, 48201, 48251, 48301, 48351, 48401, 48451, 48501, 48551, 48601, 48651, 48701, 48751, 48801, 48851, 48901, 48951, 49001, 49051, 49101, 49151, 49201, 49251, 49301, 49351, 49401, 49451, 49501, 49551, 49601, 49651, 49701, 49751, 49801, 49851, 49901, 49951]\n"
          ],
          "name": "stdout"
        }
      ]
    },
    {
      "cell_type": "markdown",
      "metadata": {
        "id": "vj4D41st8J6Q"
      },
      "source": [
        "### Here is a visualization of the average benefits for p0 and p1 over time, following the equation: average_benefit=(total_gain-total_cost)/t, where t=1, 2, 3, ... Given the following figure, QFlip converges and p1 maximizes its average benefit over time."
      ]
    },
    {
      "cell_type": "code",
      "metadata": {
        "colab": {
          "base_uri": "https://localhost:8080/",
          "height": 382
        },
        "id": "nnErNkDMTLys",
        "outputId": "dafb1e23-1943-4f36-d954-4e2a2f059e24"
      },
      "source": [
        "#visualiztaion of the change of average benefit for p0 and p1\n",
        "plt.style.use('seaborn')\n",
        "plt.figure()\n",
        "#plt.title( \"The change of average benefit for P0 and p1\")\n",
        "plt.plot(np.array(range(len(env.p1_avr_benefit))), env.p1_avr_benefit,color = \"red\",label=\"p 1: attacker \")\n",
        "plt.plot(np.array(range(len(env.p1_avr_benefit))), env.p0_avr_benefit, color = \"blue\",label=\"p 0: defender\")\n",
        "plt.ylim(-0.2, 1)\n",
        "plt.xlabel(\"Time tick\")\n",
        "plt.ylabel(\"Average Benefit\")\n",
        "plt.legend()"
      ],
      "execution_count": 10,
      "outputs": [
        {
          "output_type": "execute_result",
          "data": {
            "text/plain": [
              "<matplotlib.legend.Legend at 0x7fbf179a0390>"
            ]
          },
          "metadata": {
            "tags": []
          },
          "execution_count": 10
        },
        {
          "output_type": "display_data",
          "data": {
            "image/png": "[encoded data removed]",
            "text/plain": [
              "<Figure size 576x396 with 1 Axes>"
            ]
          },
          "metadata": {
            "tags": []
          }
        }
      ]
    },
    {
      "cell_type": "markdown",
      "metadata": {
        "id": "EsdfdbYDqS6h"
      },
      "source": [
        "###Given below, when Qflit converges, the maximum controling time for the attacker is 49 time units in each period of 50 time units."
      ]
    },
    {
      "cell_type": "code",
      "metadata": {
        "colab": {
          "base_uri": "https://localhost:8080/",
          "height": 378
        },
        "id": "Cmt56EH7ST8H",
        "outputId": "229c79ce-0929-403c-b009-64e984412c83"
      },
      "source": [
        "#visualiztaion of the duration for p1 to control the resource in each period of 50 ticks\n",
        "plt.style.use('seaborn')\n",
        "plt.figure()\n",
        "#plt.title( \"The duration for p1 to control the resource in each period of 50 ticks\")\n",
        "plt.plot(np.array(range(env.flipping_count)), env.hold_time_list,label=\"p 1: attacker\")\n",
        "plt.xlabel(\"Flipping Count for the Attacker\")\n",
        "plt.ylabel(\"The Holding Duration/ per 50 ticks)\")\n",
        "plt.legend()"
      ],
      "execution_count": 12,
      "outputs": [
        {
          "output_type": "execute_result",
          "data": {
            "text/plain": [
              "<matplotlib.legend.Legend at 0x7fbf172f8610>"
            ]
          },
          "metadata": {
            "tags": []
          },
          "execution_count": 12
        },
        {
          "output_type": "display_data",
          "data": {
            "image/png": "[encoded data removed]",
            "text/plain": [
              "<Figure size 576x396 with 1 Axes>"
            ]
          },
          "metadata": {
            "tags": []
          }
        }
      ]
    },
    {
      "cell_type": "markdown",
      "metadata": {
        "id": "7N_mj8h_smjb"
      },
      "source": [
        "###**Part 3 QFlip With None-zero Random Noise**\n",
        "###When there are some small-degree random noises to the moving period of p0 (scale!=0, prob!=0), the setting should be changed as follows: \n",
        "\n",
        "*   there are more states in the Q table\n",
        "*   the duration is longer\n",
        "*   epsilon decays with a smaller step\n",
        "\n",
        "###Here is an example showing the values of the parameters:\n",
        "* In the generate_period(margin,prob) method, the value of \"prob\"\n",
        "is 0.2, margin=5\n",
        "* duration=100000\n",
        "* Q_table=np.zeros((100000,2))\n",
        "* epsilon=max(1-1/1000, 0.001)\n"
      ]
    },
    {
      "cell_type": "markdown",
      "metadata": {
        "id": "UOWOXVkwrqHt"
      },
      "source": [
        "###Visualize the Average Benefit, indicating that QFlip converges."
      ]
    },
    {
      "cell_type": "code",
      "metadata": {
        "colab": {
          "base_uri": "https://localhost:8080/",
          "height": 382
        },
        "id": "_b6KEEx17ef_",
        "outputId": "32ba07e1-619b-49ef-d1f8-492211e007b2"
      },
      "source": [
        "#visualiztaion\n",
        "plt.style.use('seaborn')\n",
        "plt.figure()\n",
        "#plt.title( \"The change of average benefit for P0 and p1\")\n",
        "plt.plot(np.array(range(len(env.p1_avr_benefit))), env.p1_avr_benefit,color = \"red\",label=\"p 1: attacker\")\n",
        "plt.plot(np.array(range(len(env.p1_avr_benefit))), env.p0_avr_benefit, color = \"blue\",label=\"p 0: defender\")\n",
        "plt.ylim(-0.2, 1)\n",
        "plt.xlabel(\"Time tick\")\n",
        "plt.ylabel(\"Average Benefit\")\n",
        "plt.legend()"
      ],
      "execution_count": 16,
      "outputs": [
        {
          "output_type": "execute_result",
          "data": {
            "text/plain": [
              "<matplotlib.legend.Legend at 0x7fbf171b2190>"
            ]
          },
          "metadata": {
            "tags": []
          },
          "execution_count": 16
        },
        {
          "output_type": "display_data",
          "data": {
            "image/png": "[encoded data removed]",
            "text/plain": [
              "<Figure size 576x396 with 1 Axes>"
            ]
          },
          "metadata": {
            "tags": []
          }
        }
      ]
    },
    {
      "cell_type": "markdown",
      "metadata": {
        "id": "rvp1d142E9JP"
      },
      "source": [
        "### **Part 4 observe the change of average benefit based on the change of \"probability\" or \"scale\".**"
      ]
    },
    {
      "cell_type": "code",
      "metadata": {
        "id": "cTAlYjyrrztC",
        "outputId": "2f8c3676-675b-4d9a-872e-aafb9e4ef851",
        "colab": {
          "base_uri": "https://localhost:8080/"
        }
      },
      "source": [
        "print(final_avr_benefit_p0)\n",
        "print(final_avr_benefit_p1)"
      ],
      "execution_count": 422,
      "outputs": [
        {
          "output_type": "stream",
          "text": [
            "[0.01901, 0.039330000000000004, 0.057940000000000005, 0.076762, 0.09506600000000001, 0.11295200000000001, 0.12958, 0.14506599999999997, 0.162912, 0.176712, 0.18861, 0.189622, 0.202292, 0.22698800000000002, 0.23059600000000002, 0.259142, 0.253602, 0.26531399999999994, 0.27830199999999994, 0.27276]\n",
            "[0.833192, 0.813782, 0.795, 0.775554, 0.7568300000000001, 0.73898, 0.7220359999999999, 0.70491, 0.68727, 0.672358, 0.661014, 0.657936, 0.644678, 0.619364, 0.615506, 0.588446, 0.591498, 0.579302, 0.567276, 0.57113]\n"
          ],
          "name": "stdout"
        }
      ]
    },
    {
      "cell_type": "code",
      "metadata": {
        "id": "FyA83KibcT_4",
        "outputId": "90a1f803-eb90-4261-c710-cbd61713af0a",
        "colab": {
          "base_uri": "https://localhost:8080/",
          "height": 378
        }
      },
      "source": [
        "#Viusalize the above results given prob=(0.2, 0.4, 0.6) and scale= {1, 2, 3,...,20}\n",
        "plt.style.use('seaborn')\n",
        "plt.figure()\n",
        "plt.plot(np.array(range(1, 21)), final_avr_benefit_p0, color = \"red\",label=\"p 1: attacker\")\n",
        "plt.plot(np.array(range(1, 21)), final_avr_benefit_p1, color = \"blue\",label=\"p 0: defender\")\n",
        "#plt.ylim(-0.2, 1)\n",
        "plt.xlabel(\"Time tick\")\n",
        "plt.ylabel(\"Final Average Benefit\")\n",
        "plt.legend()"
      ],
      "execution_count": 18,
      "outputs": [
        {
          "output_type": "execute_result",
          "data": {
            "text/plain": [
              "<matplotlib.legend.Legend at 0x7fbf17076610>"
            ]
          },
          "metadata": {
            "tags": []
          },
          "execution_count": 18
        },
        {
          "output_type": "display_data",
          "data": {
            "image/png": "[encoded data removed]",
            "text/plain": [
              "<Figure size 576x396 with 1 Axes>"
            ]
          },
          "metadata": {
            "tags": []
          }
        }
      ]
    },
    {
      "cell_type": "markdown",
      "metadata": {
        "id": "gpQSm-SeuwPG"
      },
      "source": [
        "**Result**\n",
        "*   By varying the value of scale from 1 to 20 given the same probability, the result shows that the average benefit for p0 decreases and the average benefit for p1 increases.\n",
        "*   Besides, by trying probability with different values (e.g. 0.2, 0.4, 0.6), we found that the larger the probability, the faster the average benefit changes for p0 and p1.\n",
        "\n"
      ]
    }
  ]
}