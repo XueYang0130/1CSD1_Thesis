{
  "nbformat": 4,
  "nbformat_minor": 0,
  "metadata": {
    "colab": {
      "name": "1. Q-Learning in Gridworld .ipynb",
      "provenance": [],
      "collapsed_sections": [],
      "authorship_tag": "ABX9TyNCz+rxVfD5tzmIt7Wf+Mm+",
      "include_colab_link": true
    },
    "kernelspec": {
      "name": "python3",
      "display_name": "Python 3"
    },
    "language_info": {
      "name": "python"
    }
  },
  "cells": [
    {
      "cell_type": "markdown",
      "metadata": {
        "id": "view-in-github",
        "colab_type": "text"
      },
      "source": [
        "<a href=\"https://colab.research.google.com/github/XueYang0130/1CSD1_Thesis/blob/main/1_Q_Learning_in_Gridworld_.ipynb\" target=\"_parent\"><img src=\"https://colab.research.google.com/assets/colab-badge.svg\" alt=\"Open In Colab\"/></a>"
      ]
    },
    {
      "cell_type": "markdown",
      "metadata": {
        "id": "XwkXWWcdduhF"
      },
      "source": [
        "###**Part 1 Model Construction and Training Process** \n",
        "\n",
        "This is a 5X5 GridWorld. Thus, there are 25 states shown as below:\n",
        "\n",
        "![Screenshot 2021-07-12 at 19.15.40.png](data:image/png;base64,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)\n",
        "\n",
        "\n",
        "The agent has a set of actions: up, down, left, right, which is represented as [0,1,2,3]. Assume that state 12 has an obstacle, the agent cannot go over it and will get a penalty -5 if hitting it.\n",
        "\n",
        "In each episode:\n",
        "The start state is 0, the target state is 24.\n",
        "The penalty of hitting the wall is -1; the penalty of taking one step is -1.\n",
        "The reward of arriving the target state is 10."
      ]
    },
    {
      "cell_type": "code",
      "metadata": {
        "id": "udfOGg0KytG7"
      },
      "source": [
        "#import libraries\n",
        "import numpy as np\n",
        "import random \n",
        "import matplotlib.pyplot as plt"
      ],
      "execution_count": 1,
      "outputs": []
    },
    {
      "cell_type": "code",
      "metadata": {
        "id": "Bh12viAXMnyU"
      },
      "source": [
        "#define an environment class\n",
        "class Env(object):\n",
        "    def __init__(self):\n",
        "      self.states=list(range(25)) #a set of sets\n",
        "      self.actions=[0,1,2,3] #a set of actions: up, down, left, right\n",
        "      self.start_state=0 #define start state and target state\n",
        "      self.target_state=24 \n",
        "      self.step_penalty=-1 #define penalty for each step\n",
        "      self.wall_penalty=-1 #define penalty for hitting the wall\n",
        "      self.obstacle_penalty=-5 #define penalty for hitting the obstacle\n",
        "      self.target_reward=10 #define the reward for arriving the target state\n",
        "      self.current_state=0 #initialize current state and next state to zeros\n",
        "      self.next_state=0 #initialize the next state to 0\n",
        "      self.done=False #False: game over; True: game not over\n",
        "      self.total_reward=0 #total reward in each episode\n",
        "      self.total_reward_list=[] #total rewards in all episodes\n",
        "      self.step_num=0 \n",
        "\n",
        "    def reset(self):\n",
        "      self.start_state=0\n",
        "      self.current_state=0\n",
        "      self.next_state=0\n",
        "      self.done=False\n",
        "      self.total_reward=0\n",
        "\n",
        "    #action: go up\n",
        "    def do_step(self,action):\n",
        "      reward=0\n",
        "      if action ==0:\n",
        "        if self.current_state in [0,1,2,3,4]:\n",
        "          reward+=self.wall_penalty+self.step_penalty\n",
        "          self.next_state=self.current_state\n",
        "        elif self.current_state==17:\n",
        "          reward+=self.step_penalty+self.obstacle_penalty\n",
        "          self.next_state=self.current_state\n",
        "        else:\n",
        "          self.next_state=self.current_state-5\n",
        "          reward+=self.step_penalty\n",
        "      \n",
        "      #action: go down\n",
        "      if action==1: \n",
        "        if self.current_state in [20,21,22,23,24]:\n",
        "          self.next_state=self.current_state\n",
        "          reward+=self.wall_penalty+self.step_penalty\n",
        "        elif self.current_state==7:\n",
        "          reward+=self.step_penalty+self.obstacle_penalty\n",
        "          self.next_state=self.current_state\n",
        "        else:\n",
        "          self.next_state=self.current_state+5\n",
        "          reward+=self.step_penalty\n",
        "          if self.next_state==self.target_state:\n",
        "            self.done=True\n",
        "            reward+=self.target_reward\n",
        "\n",
        "      #action: go left\n",
        "      if action==2: \n",
        "        if self.current_state in [0,5,10,15,20]:\n",
        "          reward+=self.wall_penalty+self.step_penalty\n",
        "          self.next_state=self.current_state\n",
        "        elif self.current_state==13:\n",
        "          reward+=self.step_penalty+self.obstacle_penalty\n",
        "          self.next_state=self.current_state\n",
        "        else:\n",
        "          self.next_state=self.current_state-1\n",
        "          reward+=self.step_penalty\n",
        "\n",
        "      #action: go right\n",
        "      if action==3: \n",
        "        if self.current_state in [4,9,14,19,24]:\n",
        "          self.next_state=self.current_state\n",
        "          reward+=self.wall_penalty+self.step_penalty\n",
        "        elif self.current_state==11:\n",
        "          reward+=self.step_penalty+self.obstacle_penalty\n",
        "          self.next_state=self.current_state\n",
        "        else:\n",
        "          self.next_state=self.current_state+1\n",
        "          reward+=self.step_penalty\n",
        "          if self.next_state==self.target_state:\n",
        "            self.done=True\n",
        "            reward+=self.target_reward\n",
        "\n",
        "      self.total_reward+=reward #update total reward\n",
        "      self.current_state=self.next_state #update current state\n",
        "      if self.done==True: #if the game is over\n",
        "        self.total_reward_list.append(self.total_reward)\n",
        "      self.step_num+=1 #update number of steps the agent has taken\n",
        "      return reward, self.next_state, self.done #return reward, next step, and the state of \"done\"\n"
      ],
      "execution_count": 11,
      "outputs": []
    },
    {
      "cell_type": "code",
      "metadata": {
        "id": "WE3pyt0QGIJU"
      },
      "source": [
        "#define an agent class\n",
        "class Agent(object):\n",
        "  def __init__(self, env):\n",
        "    self.env=env\n",
        "    self.actions=[0,1,2,3] #actions that can be chosen\n",
        "    self.gamma=0.7 #discount variable\n",
        "    self.alpha=0.3 #learning rate\n",
        "    self.Q_table=np.zeros((25,4)) #initialize Q table with all zeros\n",
        "    self.reward_list=[]\n",
        "  #reset before each episode\n",
        "  def reset(self): \n",
        "    self.env.reset()\n",
        "    self.Q_table=np.zeros((25,4))\n",
        "\n",
        "  def do_step(self,epsilon,test=False): \n",
        "    #get current state\n",
        "    current_state=self.env.current_state\n",
        "    #select an action\n",
        "    action=self.epsilon_greedy(current_state, epsilon)\n",
        "    #get reward, next state and state of done of this step\n",
        "    reward, next_state,done=self.env.do_step(action)\n",
        "    #if test=true, go for evaluation process\n",
        "    if test: \n",
        "      print(\"Position:\",next_state)\n",
        "    #if test=false, update Q table\n",
        "    else:\n",
        "      self.update_Q(reward, current_state,next_state,action)\n",
        "    return done #return state of \"done\"\n",
        "\n",
        "  #define epsilon greedy exploration method (epsilon decays in each episode)\n",
        "  def epsilon_greedy(self, state, epsilon):\n",
        "    if np.random.rand()<epsilon:\n",
        "      return random.choice(self.actions) #select an action at random \n",
        "    else:\n",
        "      return np.argmax(self.Q_table[state]) #otherwise choose the action with maximum Q value\n",
        "\n",
        "  #Q value update rule\n",
        "  def update_Q(self, reward, current_state, next_state, action):\n",
        "    self.Q_table[current_state, action]=self.Q_table[current_state, action]+self.alpha*(reward+self.gamma*np.max(self.Q_table[next_state])-self.Q_table[current_state,action])\n",
        "\n"
      ],
      "execution_count": 22,
      "outputs": []
    },
    {
      "cell_type": "code",
      "metadata": {
        "id": "R7RZyrP8Z4Zy"
      },
      "source": [
        "#Training\n",
        "\n",
        "env=Env() #create an environment class\n",
        "agent=Agent(env) #create an agent class\n",
        "agent.reset() #reset the agent\n",
        "epsilon=0.7 #initial value of epsilon\n",
        "n=100 #episode\n",
        "\n",
        "for i in range(n): \n",
        "  env.reset() #reset environment\n",
        "  epsilon=max(epsilon-1/n,0) #epsilon decays\n",
        "  while True: \n",
        "    done=agent.do_step(epsilon) #get state of \"done\"\n",
        "    if done==True: #game is over\n",
        "      break"
      ],
      "execution_count": 23,
      "outputs": []
    },
    {
      "cell_type": "code",
      "metadata": {
        "id": "2G_RS9fP3iXk"
      },
      "source": [
        "#Store the learned Q table for evaluation later.\n",
        "Q_table=agent.Q_table"
      ],
      "execution_count": 20,
      "outputs": []
    },
    {
      "cell_type": "markdown",
      "metadata": {
        "id": "AcxIba0znMGc"
      },
      "source": [
        "**Visualize the total reward curve for the agent in each episode, showing that the curve converges.**"
      ]
    },
    {
      "cell_type": "code",
      "metadata": {
        "colab": {
          "base_uri": "https://localhost:8080/",
          "height": 378
        },
        "id": "r3JlPlmhbHTO",
        "outputId": "f83aada6-9541-4c4b-a0b7-3e6e2707e2cb"
      },
      "source": [
        "#visualizzation\n",
        "plt.style.use('seaborn')\n",
        "plt.figure()\n",
        "#plt.title( \"total reward curve\")\n",
        "plt.plot(np.array(range(n)), env.total_reward_list, color=\"#adad3b\", label=\"sum reward\")\n",
        "plt.xlabel(\"Episode\")\n",
        "plt.ylabel(\"Accumulated Reward\")\n",
        "\n",
        "#after over 30 episodes, the total reward of each episode converges to a constant."
      ],
      "execution_count": 24,
      "outputs": [
        {
          "output_type": "execute_result",
          "data": {
            "text/plain": [
              "Text(0, 0.5, 'Accumulated Reward')"
            ]
          },
          "metadata": {},
          "execution_count": 24
        },
        {
          "output_type": "display_data",
          "data": {
            "image/png": "[encoded data removed]",
            "text/plain": [
              "<Figure size 576x396 with 1 Axes>"
            ]
          },
          "metadata": {}
        }
      ]
    },
    {
      "cell_type": "markdown",
      "metadata": {
        "id": "CXPlr6H7Bry0"
      },
      "source": [
        "###**Part 2 Evaluation**"
      ]
    },
    {
      "cell_type": "code",
      "metadata": {
        "colab": {
          "base_uri": "https://localhost:8080/"
        },
        "id": "SKFxO0pbB85o",
        "outputId": "0d87140c-d6b6-4d79-a574-a231dac21a1c"
      },
      "source": [
        "agent2=Agent(env) #create an agent class\n",
        "epsilon=0 #only focus on greedy exploitation\n",
        "agent2.Q_table=Q_table\n",
        " \n",
        "env.reset() #reset environment\n",
        "while True: \n",
        "  done=agent2.do_step(epsilon,test=True) #get state of \"done\"\n",
        "  if done==True: #game is over\n",
        "    break\n"
      ],
      "execution_count": 26,
      "outputs": [
        {
          "output_type": "stream",
          "text": [
            "position: 5\n",
            "position: 10\n",
            "position: 15\n",
            "position: 16\n",
            "position: 17\n",
            "position: 18\n",
            "position: 19\n",
            "position: 24\n"
          ],
          "name": "stdout"
        }
      ]
    },
    {
      "cell_type": "code",
      "metadata": {
        "colab": {
          "base_uri": "https://localhost:8080/"
        },
        "id": "p5agtv3SNXzH",
        "outputId": "cef904f2-41af-45c4-9616-6e767d14cd8d"
      },
      "source": [
        "#total reward \n",
        "env.total_reward_list[-1]"
      ],
      "execution_count": 28,
      "outputs": [
        {
          "output_type": "execute_result",
          "data": {
            "text/plain": [
              "2"
            ]
          },
          "metadata": {},
          "execution_count": 28
        }
      ]
    }
  ]
}