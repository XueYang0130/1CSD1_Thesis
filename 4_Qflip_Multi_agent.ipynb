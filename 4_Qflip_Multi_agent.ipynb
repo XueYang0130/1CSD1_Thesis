{
  "nbformat": 4,
  "nbformat_minor": 0,
  "metadata": {
    "colab": {
      "name": "4. Qflip_Multi-agent.ipynb",
      "provenance": [],
      "collapsed_sections": [],
      "authorship_tag": "ABX9TyMSKBlwe6XUSmvbK4dESUYx",
      "include_colab_link": true
    },
    "kernelspec": {
      "name": "python3",
      "display_name": "Python 3"
    },
    "language_info": {
      "name": "python"
    }
  },
  "cells": [
    {
      "cell_type": "markdown",
      "metadata": {
        "id": "view-in-github",
        "colab_type": "text"
      },
      "source": [
        "<a href=\"https://colab.research.google.com/github/XueYang0130/1CSD1_Thesis/blob/main/4_Qflip_Multi_agent.ipynb\" target=\"_parent\"><img src=\"https://colab.research.google.com/assets/colab-badge.svg\" alt=\"Open In Colab\"/></a>"
      ]
    },
    {
      "cell_type": "markdown",
      "metadata": {
        "id": "UI-7Ubc7yXFE"
      },
      "source": [
        "###**Part 1**\n",
        "### In this experiment, both players (p0: defender, p1: attacker) employ LM adaptive strategies. We create a new Reward Function which has been described in the thesis. The assumptions of the experiment are the same as in the one-agent QFlip."
      ]
    },
    {
      "cell_type": "code",
      "metadata": {
        "id": "reE4KMCzhyd1"
      },
      "source": [
        "#import libraries\n",
        "import numpy as np\n",
        "import random \n",
        "import matplotlib.pyplot as plt"
      ],
      "execution_count": 2,
      "outputs": []
    },
    {
      "cell_type": "code",
      "metadata": {
        "id": "6ccD6bcFhzMC"
      },
      "source": [
        "#define an environment class\n",
        "#two agents: p0 - defender, p1 - attacker\n",
        "\n",
        "class Env(object):\n",
        "  def __init__(self):\n",
        "    #initialization\n",
        "    self.actions=[[0,1],[0,0],[1,1],[1,0]] #Four action combinations. In each list, the 1st element is p0's action, the 2nd element of p1's action\n",
        "    self.tick=0 \n",
        "    self.cost=[1,5] #the 1st element is p0's cost, the 2nd element of p1's cost\n",
        "    self.reward_constant_norm=[1,5] \n",
        "    self.c=5 #normalization constant \n",
        "    self.init_state= [0,0] #initial state observed by players\n",
        "    self.state = self.init_state # 'state': the time since the opponent's last \"know\" move at time t (maybe not true last move time)\n",
        "    self.p0_moves = [0] #a list of move times of p0\n",
        "    self.p1_moves = [0] #a list of move times of p1\n",
        "    self.duration=300000 #the maximum time steps\n",
        "    self.done=False #indicates whether the game is over\n",
        "    self.controller=0 #before the game starts, p0/defender controls the resource\n",
        "    self.total_gain=[0,0] #total controling time to p0 and p1\n",
        "    self.total_cost=[0,0] #total cost to p0 and p1\n",
        "    self.p0_avr_benefit=[] #p0's average benefit: (hold time- total cost)/time steps\n",
        "    self.p1_avr_benefit=[] #p1's average benefit: (hold time- total cost)/time steps\n",
        "    self.avr_hold_time=[0,0]\n",
        "\n",
        "  def step(self,actions,tick):\n",
        "    reward = [0,0] #indicate the reward two players gain in thie time step\n",
        "\n",
        "    #p0/defender and p1/attacker move together, p0/defender controls the resource, p1 doesn't gain any benefit but has a cost.\n",
        "    if actions == [1,1]:\n",
        "        #p0/defender consecutive:\n",
        "        if self.controller==0: #p0 moves when it has already controlled the resource\n",
        "          #update rewards and states to p0 and p1\n",
        "          reward = [-self.cost[0],-self.cost[1]]\n",
        "          self.state[1]+=1\n",
        "          self.state[0]+=1\n",
        "        #p0/defender flipping:\n",
        "        else:\n",
        "          #update rewards and states to p0 and p1\n",
        "          reward = [self.reward_constant_norm[0], -self.cost[1]]\n",
        "          self.state[1]+=1\n",
        "          self.state[0] = tick - self.p1_moves[-1] +1\n",
        "        self.controller=0 #after the action, the controller is p0\n",
        "        self.p0_moves.append(tick) #update the list of p0's move times\n",
        "        self.total_cost[0]+=self.cost[0] #update total costs to p0 and p1\n",
        "        self.total_cost[1]+=self.cost[1]\n",
        "\n",
        "    #p0/defender doesn't move, p1/attacker moves\n",
        "    elif actions==[0,1]:\n",
        "        #p1/attacker flipping:\n",
        "        if self.controller==0: #p1 moves when p0 controls the resource\n",
        "          #again, update rewards and states to p0 and p1\n",
        "          reward = [0,self.reward_constant_norm[1]]\n",
        "          self.state[1]+=tick - self.p0_moves[-1] +1\n",
        "          self.state[0]+=1\n",
        "        #p1/attacker consecutive:\n",
        "        else:\n",
        "          #update rewards and states to p0 and p1\n",
        "          reward = [0,-self.cost[1]]\n",
        "          self.state[1]+=1\n",
        "          self.state[0]+=1\n",
        "        self.controller=1 #after the action, the controller is p1\n",
        "        self.p1_moves.append(tick) #update the list of p1's move times\n",
        "        self.total_cost[1]+=self.cost[1] #update total cost to p1\n",
        "\n",
        "    #p0/defender moves, p1/attacker doesn't move\n",
        "    elif actions==[1,0]:\n",
        "       #p0/defender consecutive: \n",
        "        if self.controller==0: #p0 moves when it has already controlled the resource\n",
        "          #update rewards and states to p0 and p1\n",
        "          reward = [-self.cost[0],0] \n",
        "          self.state[1]+=1\n",
        "          self.state[0]+=1\n",
        "        #p0/defender flipping:\n",
        "        else:\n",
        "          #update rewards and states to p0 and p1\n",
        "          reward = [self.reward_constant_norm[0],0]\n",
        "          self.state[1]+=1\n",
        "          self.state[0] = tick - self.p1_moves[-1] +1\n",
        "        self.controller=0 #after the action, the controller is p0\n",
        "        self.p0_moves.append(tick) #update the list of p0's move times\n",
        "        self.total_cost[0]+=self.cost[0] #update total cost to p0\n",
        "    \n",
        "    #p0 and p1 both don't move. Their don't receive rewards.\n",
        "    elif actions==[0,0]: \n",
        "        #update states\n",
        "        self.state[1]+= 1\n",
        "        self.state[0]+=1\n",
        "\n",
        "    #check if the game is over\n",
        "    if tick==self.duration: \n",
        "      self.done=True\n",
        "    \n",
        "    #update the value of total gain (also the holding time of the resource) to the controller\n",
        "    self.total_gain[self.controller]+=1\n",
        "\n",
        "    #calculate average benefit to p0 and p1 so far: (total gain-total cost)/total ticks\n",
        "    self.p0_avr_benefit.append((self.total_gain[0]-self.total_cost[0])/(tick+1))\n",
        "    self.p1_avr_benefit.append((self.total_gain[1]-self.total_cost[1])/(tick+1))\n",
        "\n",
        "    #calcuate average holding time to p0 and p1: total gain/ total number of moves\n",
        "    self.avr_hold_time[0]=self.total_gain[0]/len(self.p0_moves)\n",
        "    self.avr_hold_time[1]=self.total_gain[1]/len(self.p1_moves)\n",
        "\n",
        "    #calculate the rewards that will be used in the next time step to p0 and p1, respectively.\n",
        "    #(average holding time- cost per move)/normalization constant\n",
        "    self.reward_constant_norm[0]=(self.avr_hold_time[0]-self.cost[0])/self.c\n",
        "    self.reward_constant_norm[1]=(self.avr_hold_time[1]-self.cost[1])/self.c\n",
        "\n",
        "    return self.state, reward, self.done #return next state/observation, reward for the agent, and state of 'done'\n",
        "    \n",
        "\n",
        "  def output(self): #print out moves times of p0 and p1 respectively\n",
        "    print(\"p0:\",self.p0_moves)\n",
        "    print(\"p1:\",self.p1_moves)\n",
        "    "
      ],
      "execution_count": 3,
      "outputs": []
    },
    {
      "cell_type": "code",
      "metadata": {
        "id": "B2Fbsr_8wVC5"
      },
      "source": [
        "#define an agent class\n",
        "class Agent(object):\n",
        "  def __init__(self,env):\n",
        "    self.env=env\n",
        "    #initialisation\n",
        "    self.alpha = 0.3\n",
        "    self.gamma=0.8\n",
        "    self.actions=[0,1] \n",
        "    self.Q_table=np.zeros((1000000,2)) \n",
        "    self.cur_state=self.env.state #get the current state from the environment\n",
        "    self.next_state=0\n",
        "\n",
        "  #select an action\n",
        "  def take_action(self,epsilon):\n",
        "    action=self.epsilon_greedy(self.cur_state, epsilon)\n",
        "    return action\n",
        "  \n",
        "  #update Q table and state\n",
        "  def new_do_step(self,state,reward,action,done):\n",
        "    self.update_Q(reward, self.cur_state, state,action)\n",
        "    self.cur_state=state\n",
        "    return done\n",
        "\n",
        "  #for exporation-exploitation\n",
        "  def epsilon_greedy(self, state, epsilon): \n",
        "    if np.random.rand()<epsilon:\n",
        "      return random.choice(self.actions) \n",
        "    else:\n",
        "      return np.argmax(self.Q_table[state])\n",
        "\n",
        "  #method for updating Q-table\n",
        "  def update_Q(self, reward, cur_state, next_state, action): \n",
        "    self.Q_table[cur_state, action]=self.Q_table[cur_state, action]+self.alpha*(reward+self.gamma*np.max(self.Q_table[next_state])-self.Q_table[cur_state,action])\n",
        "\n"
      ],
      "execution_count": 4,
      "outputs": []
    },
    {
      "cell_type": "code",
      "metadata": {
        "id": "eEWF4kDxzGBt"
      },
      "source": [
        "env = Env() #create an environment object\n",
        "defender=Agent(env) #create an agent object to be the defender\n",
        "attacker=Agent(env) #create an agent object to be the attacker\n",
        "epsilon = 0.5 #initial value of epsilon\n",
        "for tick in range(env.duration):\n",
        "  epsilon=max(epsilon-1/290000,0.01) # decay epsilon\n",
        "  defender_action = defender.take_action(epsilon) #defender selects an action\n",
        "  attacker_action = attacker.take_action(epsilon) #attacker selects an action\n",
        "  actions = [defender_action, attacker_action] #action combination\n",
        "  #get next states, rewards and state of done from the environment according to action combination\n",
        "  next_states, rewards, done=env.step(actions,tick) \n",
        "  #update the environment including the Q table\n",
        "  defender.new_do_step(next_states[0],rewards[0],actions[0],done) \n",
        "  attacker.new_do_step(next_states[1],rewards[1],actions[1],done) "
      ],
      "execution_count": 5,
      "outputs": []
    },
    {
      "cell_type": "markdown",
      "metadata": {
        "id": "qaQ8hiBAzZ8o"
      },
      "source": [
        "###**Part 2**"
      ]
    },
    {
      "cell_type": "markdown",
      "metadata": {
        "id": "NvP_JJlNYF7o"
      },
      "source": [
        "###Print the average holding time for p0 and p1, respectively. This indicates how much additional controling time of the resouce the player can gain for each move. The more time gained, the better of the result."
      ]
    },
    {
      "cell_type": "code",
      "metadata": {
        "colab": {
          "base_uri": "https://localhost:8080/"
        },
        "id": "jAR493K_K4k_",
        "outputId": "176f3acf-677b-481d-e12c-d852c07c7dcb"
      },
      "source": [
        "print(\"Average holding time for p0:\", env.avr_hold_time[0])\n",
        "print(\"Average holding time for p1:\", env.avr_hold_time[1])"
      ],
      "execution_count": 6,
      "outputs": [
        {
          "output_type": "stream",
          "text": [
            "Average holding time for p0: 8.495386176986251\n",
            "Average holding time for p1: 7.337787347223101\n"
          ],
          "name": "stdout"
        }
      ]
    },
    {
      "cell_type": "markdown",
      "metadata": {
        "id": "mABFbhvEbKTd"
      },
      "source": [
        "###Print the average benefits over time for p0 and p1, respectively. The equation is as follows: (total gain-total cost)/t, where t=1, 2, 3, .... Due to the print limit, only the last 100 values are printed. We can notice that the values have converged."
      ]
    },
    {
      "cell_type": "code",
      "metadata": {
        "colab": {
          "base_uri": "https://localhost:8080/"
        },
        "id": "MN68MsB6dU9x",
        "outputId": "776ec9dd-a8d7-400c-96cb-c3fe7b36116c"
      },
      "source": [
        "print(\"Average benefits over time for p0:\", env.p0_avr_benefit[-100:])\n",
        "print(\"Average benefits over time for p1:\", env.p1_avr_benefit[-100:])"
      ],
      "execution_count": 7,
      "outputs": [
        {
          "output_type": "stream",
          "text": [
            "Average benefits over time for p0: [0.5414620157985468, 0.5414602103353762, 0.5414584048842459, 0.5414565994451558, 0.5414547940181057, 0.5414529886030957, 0.5414511832001254, 0.5414493778091948, 0.5414475724303038, 0.5414457670634524, 0.5414439617086402, 0.5414421563658673, 0.5414403510351335, 0.5414385457164387, 0.5414367404097827, 0.5414349351151656, 0.5414331298325871, 0.541431324562047, 0.5414295193035453, 0.5414277140570819, 0.5414259088226566, 0.5414241036002694, 0.5414222983899201, 0.5414204931916086, 0.5414186880053347, 0.5414168828310983, 0.5414150776688994, 0.5414132725187378, 0.5414114673806134, 0.5414129963658187, 0.5414145253408283, 0.5414160543056427, 0.5414175832602615, 0.5414191122046851, 0.5414206411389134, 0.5414221700629468, 0.5414236989767851, 0.5414252278804286, 0.5414267567738773, 0.5414282856571314, 0.5414298145301909, 0.541431343393056, 0.5414328722457267, 0.5414344010882032, 0.5414359299204854, 0.5414374587425737, 0.541438987554468, 0.5414405163561684, 0.5414420451476751, 0.5414435739289881, 0.5414451027001077, 0.5414466314610338, 0.5414481602117666, 0.541449688952306, 0.5414512176826524, 0.5414527464028057, 0.5414542751127661, 0.5414558038125338, 0.5414573325021086, 0.5414588611814909, 0.5414603898506806, 0.5414619185096778, 0.5414634471584828, 0.5414649757970956, 0.5414665044255164, 0.5414680330437449, 0.5414695616517817, 0.5414710902496266, 0.5414726188372798, 0.5414741474147414, 0.5414756759820116, 0.5414772045390903, 0.5414787330859777, 0.5414802616226739, 0.5414817901491791, 0.5414833186654933, 0.5414848471716165, 0.541486375667549, 0.5414879041532907, 0.541489432628842, 0.5414909610942026, 0.541492489549373, 0.541494017994353, 0.5414955464291429, 0.5414970748537427, 0.5414986032681525, 0.5415001316723724, 0.5415016600664027, 0.5415031884502431, 0.5415047168238941, 0.5415062451873556, 0.5415077735406277, 0.5415093018837106, 0.5415108302166043, 0.541512358539309, 0.5415138868518247, 0.5415154151541516, 0.5415169434462896, 0.5415184717282391, 0.54152]\n",
            "Average benefits over time for p1: [0.06765232526733822, 0.06765543410847544, 0.06765854292888034, 0.06766165172855314, 0.06766476050749404, 0.06766786926570326, 0.06767097800318099, 0.06767408671992745, 0.06767719541594283, 0.06768030409122737, 0.06768341274578125, 0.06768652137960468, 0.06768962999269788, 0.06769273858506106, 0.0676958471566944, 0.06769895570759812, 0.06770206423777245, 0.06770517274721757, 0.0677082812359337, 0.06771138970392104, 0.06771449815117982, 0.0677176065777102, 0.06772071498351244, 0.0677238233685867, 0.06772693173293323, 0.06773004007655221, 0.06773314839944386, 0.06773625670160839, 0.06773603086063702, 0.0677358050211716, 0.06773557918321214, 0.06773535334675859, 0.06773512751181097, 0.06773490167836924, 0.06773467584643339, 0.06773445001600341, 0.06773422418707929, 0.067733998359661, 0.06773377253374853, 0.06773354670934187, 0.067733320886441, 0.0677330950650459, 0.06773286924515658, 0.067732643426773, 0.06773241760989515, 0.06773219179452301, 0.06773196598065659, 0.06773174016829583, 0.06773151435744076, 0.06773128854809135, 0.06773106274024758, 0.06773083693390942, 0.06773061112907688, 0.06773038532574994, 0.0677301595239286, 0.0677299337236128, 0.06772970792480255, 0.06772948212749785, 0.06772925633169867, 0.06772903053740499, 0.0677288047446168, 0.06772857895333409, 0.06772835316355684, 0.06772812737528504, 0.06772790158851866, 0.0677276758032577, 0.06772745001950214, 0.06772722423725197, 0.06772699845650718, 0.06772677267726773, 0.06772654689953363, 0.06772632112330484, 0.06772609534858137, 0.0677258695753632, 0.0677256438036503, 0.06772541803344267, 0.0677251922647403, 0.06772496649754316, 0.06772474073185122, 0.06772451496766452, 0.06772428920498298, 0.06772406344380663, 0.06772383768413544, 0.06772361192596939, 0.06772338616930847, 0.06772316041415266, 0.06772293466050196, 0.06772270890835634, 0.06772248315771578, 0.06772225740858029, 0.06772203166094982, 0.06772180591482439, 0.06772158017020397, 0.06772135442708854, 0.0677211286854781, 0.0677209029453726, 0.06772067720677206, 0.06772045146967647, 0.06772022573408579, 0.06772]\n"
          ],
          "name": "stdout"
        }
      ]
    },
    {
      "cell_type": "markdown",
      "metadata": {
        "id": "CwaLgV0WhBdo"
      },
      "source": [
        "###Visualization the Average Benefit Curves. The result shows that the average benefits for two players converg."
      ]
    },
    {
      "cell_type": "code",
      "metadata": {
        "colab": {
          "base_uri": "https://localhost:8080/",
          "height": 382
        },
        "id": "_b6KEEx17ef_",
        "outputId": "a231751e-c12a-4c36-e8d9-62b715989740"
      },
      "source": [
        "#visualiztaion\n",
        "plt.style.use('seaborn')\n",
        "plt.figure()\n",
        "plt.plot(np.array(range(len(env.p1_avr_benefit))), env.p1_avr_benefit,color = \"red\",label=\"p 1: attacker\")\n",
        "plt.plot(np.array(range(len(env.p1_avr_benefit))), env.p0_avr_benefit, color = \"blue\",label=\"p 0: defender\")\n",
        "plt.ylim(-1, 1)\n",
        "plt.xlabel(\"Time tick\")\n",
        "plt.ylabel(\"Average Benefit\")\n",
        "plt.legend()"
      ],
      "execution_count": 8,
      "outputs": [
        {
          "output_type": "execute_result",
          "data": {
            "text/plain": [
              "<matplotlib.legend.Legend at 0x7f0096e549d0>"
            ]
          },
          "metadata": {
            "tags": []
          },
          "execution_count": 8
        },
        {
          "output_type": "display_data",
          "data": {
            "image/png": "[encoded data removed]",
            "text/plain": [
              "<Figure size 576x396 with 1 Axes>"
            ]
          },
          "metadata": {
            "tags": []
          }
        }
      ]
    },
    {
      "cell_type": "markdown",
      "metadata": {
        "id": "bUvluDbggeB3"
      },
      "source": [
        "###Next, observe the duration between two adjacent moves for each player."
      ]
    },
    {
      "cell_type": "code",
      "metadata": {
        "id": "Cl4A-51RZrI8"
      },
      "source": [
        "p0_interval_ls = []\n",
        "p1_interval_ls = []\n",
        "i=0\n",
        "j=0\n",
        "while i < len(env.p0_moves)-1:\n",
        "  p0_interval_ls.append(env.p0_moves[i+1]-env.p0_moves[i])\n",
        "  i+=1\n",
        "while j < len(env.p1_moves)-1:\n",
        "  p1_interval_ls.append(env.p1_moves[j+1]-env.p1_moves[j])\n",
        "  j+=1\n"
      ],
      "execution_count": 11,
      "outputs": []
    },
    {
      "cell_type": "code",
      "metadata": {
        "colab": {
          "base_uri": "https://localhost:8080/",
          "height": 378
        },
        "id": "5xCYqPHmaeAa",
        "outputId": "d267ff02-8fd7-44b3-b1ec-8f5c3a57290b"
      },
      "source": [
        "plt.style.use('seaborn')\n",
        "plt.figure()\n",
        "plt.plot(range(len(p0_interval_ls)),p0_interval_ls,color = \"blue\",label=\"P 0: defender\")\n",
        "plt.xlabel(\"Time tick\")\n",
        "plt.ylabel(\"Period during Moving (ticks)\")\n",
        "plt.legend()"
      ],
      "execution_count": 17,
      "outputs": [
        {
          "output_type": "execute_result",
          "data": {
            "text/plain": [
              "<matplotlib.legend.Legend at 0x7f0095188ad0>"
            ]
          },
          "metadata": {
            "tags": []
          },
          "execution_count": 17
        },
        {
          "output_type": "display_data",
          "data": {
            "image/png": "[encoded data removed]",
            "text/plain": [
              "<Figure size 576x396 with 1 Axes>"
            ]
          },
          "metadata": {
            "tags": []
          }
        }
      ]
    },
    {
      "cell_type": "code",
      "metadata": {
        "colab": {
          "base_uri": "https://localhost:8080/",
          "height": 378
        },
        "id": "s_PFJ-j4a3qy",
        "outputId": "b5be9d9f-70a6-4de0-8311-b50bd25d5ac0"
      },
      "source": [
        "plt.style.use('seaborn')\n",
        "plt.figure()\n",
        "plt.plot(range(len(p1_interval_ls)),p1_interval_ls,color = \"red\",label=\"P 1: attacker\")\n",
        "plt.xlabel(\"Time tick\")\n",
        "plt.ylabel(\"Period during Moving (ticks)\")\n",
        "plt.legend()"
      ],
      "execution_count": 18,
      "outputs": [
        {
          "output_type": "execute_result",
          "data": {
            "text/plain": [
              "<matplotlib.legend.Legend at 0x7f00950f6510>"
            ]
          },
          "metadata": {
            "tags": []
          },
          "execution_count": 18
        },
        {
          "output_type": "display_data",
          "data": {
            "image/png": "[encoded data removed]",
            "text/plain": [
              "<Figure size 576x396 with 1 Axes>"
            ]
          },
          "metadata": {
            "tags": []
          }
        }
      ]
    }
  ]
}